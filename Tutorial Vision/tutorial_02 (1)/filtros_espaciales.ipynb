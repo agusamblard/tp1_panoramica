{
 "cells": [
  {
   "cell_type": "markdown",
   "metadata": {
    "id": "ch3t9zzSfsIz"
   },
   "source": [
    "# Tutorial 02\n",
    "\n",
    "Agenda:\n",
    "- Filtros Espaciales\n",
    "- Edge Detection"
   ]
  },
  {
   "cell_type": "markdown",
   "metadata": {},
   "source": [
    "# Setup\n",
    "\n",
    "Este tutorial se puede ejecutar local en Jupyter lab o utilizar Google Colab.\n",
    "\n",
    "## En Google Colab \n",
    "Este tutorial se provee junto con archivos de recursos dentro de un archivo \".zip\".\n",
    "En caso de ejecutar en Google Colab hay que:\n",
    "\n",
    "1. Descomprimir el zip en algún lado\n",
    "2. Subir el contenido del zip a Google Drive en alguna carpeta (por ejemplo `udesa/I308/tutoriales/tutorial_X`)\n",
    "3. Abrir este notebook .ipynb "
   ]
  },
  {
   "cell_type": "code",
   "execution_count": null,
   "metadata": {},
   "outputs": [],
   "source": [
    "import os\n",
    "import sys\n",
    "\n",
    "# TODO: establecer el path en caso de trabajar con Colab\n",
    "DRIVE_DIR = \"udesa/I308/tutoriales/tutorial_02\"\n",
    "\n",
    "# detecta si estamos corriendo en Google Colab\n",
    "try:\n",
    "  from google.colab import drive\n",
    "  COLAB = True\n",
    "except:\n",
    "  COLAB = False\n",
    "\n",
    "if COLAB:\n",
    "    # monta Google Drive\n",
    "    drive.mount('/content/drive')\n",
    "\n",
    "    base_path = \"/content/drive/MyDrive/\"\n",
    "    path = os.path.join(base_path, DRIVE_DIR)\n",
    "    \n",
    "    %cd {path}\n",
    "    sys.path.append(path)"
   ]
  },
  {
   "cell_type": "code",
   "execution_count": null,
   "metadata": {
    "id": "Fqj_ukuCpkvq"
   },
   "outputs": [],
   "source": [
    "%load_ext autoreload\n",
    "%autoreload 2"
   ]
  },
  {
   "cell_type": "code",
   "execution_count": null,
   "metadata": {
    "id": "SI0ftPemfV0M"
   },
   "outputs": [],
   "source": [
    "# instalamos el paquete de utilidades\n",
    "!pip install -qq git+https://github.com/udesa-vision/i308-utils.git\n",
    "\n",
    "from i308_utils import imshow, show_images"
   ]
  },
  {
   "cell_type": "code",
   "execution_count": null,
   "metadata": {},
   "outputs": [],
   "source": []
  },
  {
   "cell_type": "markdown",
   "metadata": {},
   "source": [
    "# Filtros Espaciales"
   ]
  },
  {
   "cell_type": "markdown",
   "metadata": {
    "id": "s5taO31u8SGM"
   },
   "source": [
    "## Padding de imagenes\n",
    "\n",
    "La función de OpenCV [`cv2.copyMakeBorder`](https://docs.opencv.org/4.x/d2/de8/group__core__array.html#ga2ac1049c2c3dd25c2b41bffe17658a36) nos permite hacer\n",
    "padding de imagenes.\n",
    "\n",
    "Dependiendo del flag que se utiliza es el método que aplicará la función para realizar el padding (BORDER_CONSTANT, BORDER_REPLICATE, BORDER_REFLECT, etc).\n"
   ]
  },
  {
   "cell_type": "code",
   "execution_count": null,
   "metadata": {
    "id": "hUQypNfMk2y7"
   },
   "outputs": [],
   "source": [
    "import cv2\n",
    "img = cv2.imread(\"res/lenna.png\", cv2.IMREAD_GRAYSCALE)\n",
    "imshow(img)"
   ]
  },
  {
   "cell_type": "code",
   "execution_count": null,
   "metadata": {},
   "outputs": [],
   "source": [
    "# ¿Cómo podemos agregar padding?\n",
    "import numpy as np\n",
    "\n",
    "def pad_image(img, border, color=0):\n",
    "    \n",
    "    h, w = img.shape\n",
    "    shape = np.array((h, w))\n",
    "    ret = color * np.ones(shape + 2 * border)\n",
    "    ret[border:h+border, border:w+border] = img\n",
    "    return ret"
   ]
  },
  {
   "cell_type": "code",
   "execution_count": null,
   "metadata": {},
   "outputs": [],
   "source": [
    "imshow(pad_image(img, 128))"
   ]
  },
  {
   "cell_type": "code",
   "execution_count": null,
   "metadata": {},
   "outputs": [],
   "source": []
  },
  {
   "cell_type": "code",
   "execution_count": null,
   "metadata": {
    "id": "SQ7vzgND8f_d"
   },
   "outputs": [],
   "source": [
    "# TODO:\n",
    "# - usando la funcion de OpenCV aplicar padding a la imagen\n",
    "# - variar los distintos tipos de bordes soportados\n",
    "# - graficar los resultados\n",
    "# - explicar brevemente la diferencia entre los distintos métodos"
   ]
  },
  {
   "cell_type": "code",
   "execution_count": null,
   "metadata": {
    "colab": {
     "base_uri": "https://localhost:8080/",
     "height": 261
    },
    "executionInfo": {
     "elapsed": 1515,
     "status": "ok",
     "timestamp": 1720305388245,
     "user": {
      "displayName": "esteban uri",
      "userId": "18306501230318527581"
     },
     "user_tz": 180
    },
    "id": "uGcx2jms0SPW",
    "outputId": "6d0e9bf8-31b4-4f38-d7a0-853fa4108620"
   },
   "outputs": [],
   "source": [
    "top, bottom, left, right = [128] * 4\n",
    "\n",
    "show_images([\n",
    "  #img,\n",
    "  cv2.copyMakeBorder(img, top, bottom, left, right, cv2.BORDER_CONSTANT, value=0),\n",
    "  cv2.copyMakeBorder(img, top, bottom, left, right, cv2.BORDER_REPLICATE),\n",
    "  cv2.copyMakeBorder(img, top, bottom, left, right, cv2.BORDER_WRAP),\n",
    "  cv2.copyMakeBorder(img, top, bottom, left, right, cv2.BORDER_REFLECT),\n",
    "  # cv2.copyMakeBorder(img, top, bottom, left, right, cv2.BORDER_REFLECT_101),\n",
    "\n",
    "], [\n",
    "    #\"original\",\n",
    "    \"BORDER_CONSTANT\",\n",
    "    \"BORDER_REPLICATE\",\n",
    "    \"BORDER_WRAP\",\n",
    "    \"BORDER_REFLECT\",\n",
    "    # \"BORDER_REFLECT_101\",\n",
    "])"
   ]
  },
  {
   "cell_type": "code",
   "execution_count": null,
   "metadata": {},
   "outputs": [],
   "source": [
    "# | 1 2 3 | 2 1"
   ]
  },
  {
   "cell_type": "code",
   "execution_count": null,
   "metadata": {
    "id": "BjoIbB-y3K6i"
   },
   "outputs": [],
   "source": [
    "import numpy as np\n",
    "\n",
    "# Creemos dos imágenes w de (3x3) y f de (5x5)\n",
    "w = np.array([\n",
    "    [1, 2, 3],\n",
    "    [4, 5, 6],\n",
    "    [7, 8, 9],\n",
    "], dtype='float')\n",
    "\n",
    "f = np.zeros((5, 5), dtype='float')\n",
    "# f[2, 2] = 1\n",
    "f[2:, 2:] = 1\n"
   ]
  },
  {
   "cell_type": "code",
   "execution_count": null,
   "metadata": {},
   "outputs": [],
   "source": [
    "w"
   ]
  },
  {
   "cell_type": "code",
   "execution_count": null,
   "metadata": {
    "colab": {
     "base_uri": "https://localhost:8080/"
    },
    "executionInfo": {
     "elapsed": 3,
     "status": "ok",
     "timestamp": 1720496125727,
     "user": {
      "displayName": "esteban uri",
      "userId": "18306501230318527581"
     },
     "user_tz": 180
    },
    "id": "EQSJasthJGAA",
    "outputId": "50921ee7-5527-434f-a701-b499ddbfea17"
   },
   "outputs": [],
   "source": [
    "#w = cv2.flip(w, -1)\n",
    "#w"
   ]
  },
  {
   "cell_type": "code",
   "execution_count": null,
   "metadata": {
    "colab": {
     "base_uri": "https://localhost:8080/"
    },
    "executionInfo": {
     "elapsed": 1,
     "status": "ok",
     "timestamp": 1720496126128,
     "user": {
      "displayName": "esteban uri",
      "userId": "18306501230318527581"
     },
     "user_tz": 180
    },
    "id": "yrocoac1KDBE",
    "outputId": "cd584f74-6957-4b81-d4b9-dc2d2ee53c29"
   },
   "outputs": [],
   "source": [
    "f"
   ]
  },
  {
   "cell_type": "code",
   "execution_count": null,
   "metadata": {
    "colab": {
     "base_uri": "https://localhost:8080/",
     "height": 406
    },
    "executionInfo": {
     "elapsed": 500,
     "status": "ok",
     "timestamp": 1720175413415,
     "user": {
      "displayName": "esteban uri",
      "userId": "18306501230318527581"
     },
     "user_tz": 180
    },
    "id": "UdpkMHQjcbdv",
    "outputId": "9a737140-df6e-4de2-ccad-fcdd1dfe7b1b"
   },
   "outputs": [],
   "source": [
    "imshow(f)"
   ]
  },
  {
   "cell_type": "markdown",
   "metadata": {
    "id": "2zy5OqDPdVZi"
   },
   "source": [
    "## Convolución\n",
    "\n",
    "La convolución modela la interacción entre dos señales para generar una tercer señal resultante. Ver [ejemplo 1D](https://upload.wikimedia.org/wikipedia/commons/6/6a/Convolution_of_box_signal_with_itself2.gif). \n",
    "\n",
    "En el contexto de procesamiento digital de imágenes, nuestras señales son discretas y están en 2D. Ver [ejemplo](https://upload.wikimedia.org/wikipedia/commons/1/19/2D_Convolution_Animation.gif) [.](https://github.com/udesa-vision/i308-resources/blob/main/tutoriales/tutorial_02/conv2d.png?raw=true)  \n",
    "\n",
    "Implementar en python la función una funcion que realiza convolución, dadas dos dos imágenes w y f en escala de grises:\n",
    "\n",
    "$ (w ★ f)( x, y) =  \\sum\\limits_{s=-∞}^{∞} \\sum\\limits_{t=-∞}^{∞} w(s, t) . f(x - s, y - t ) $\n",
    "\n",
    "Notas:\n",
    "- El kernel $w$ está indexado en base a un punto central (anchor), por lo que tipicamente las dimensiones del kernel son impares.\n",
    "- $w$ y $f$ se extienden de forma tal que valgan ceros por fuera de los límites de la imagen."
   ]
  },
  {
   "cell_type": "code",
   "execution_count": null,
   "metadata": {},
   "outputs": [],
   "source": [
    "# - Implementar en pyhton la función convolution que recibe un kernel w, y una imagen f\n",
    "#   y devuelve la convolucion w * f.\n",
    "#   para este ejercicio no importa la eficiencia, se pueden usar for loops.\n",
    "#  **hint:** revisar la función de opencv `cv2.copyMakeBorder` que permite\n",
    "#  hacer padding de imagenes.\n",
    "\n",
    "import numpy as np\n",
    "import cv2\n",
    "\n",
    "def convolution(w, f):\n",
    "    \n",
    "    M, N = f.shape       # tamaño de la imagen\n",
    "    m, n = w.shape       # tamaño del kernel\n",
    "    a = m // 2           # offset vertical\n",
    "    b = n // 2           # offset horizontal\n",
    "\n",
    "    # aplica zero padding\n",
    "    f_padded = cv2.copyMakeBorder(f, a, a, b, b, cv2.BORDER_CONSTANT)\n",
    "\n",
    "    g = np.zeros_like(f, dtype=np.float64)\n",
    "    \n",
    "    for y in range(M):\n",
    "        for x in range(N):\n",
    "            v = 0\n",
    "            for s in range(-a, a + 1):\n",
    "                for t in range(-b, b + 1):\n",
    "                    v += w[s + a, t + b] * f_padded[y - s + a, x - t + b]\n",
    "            g[y, x] = v\n",
    "    \n",
    "    return g\n"
   ]
  },
  {
   "cell_type": "code",
   "execution_count": null,
   "metadata": {},
   "outputs": [],
   "source": [
    "h_conv = convolution(w, f)"
   ]
  },
  {
   "cell_type": "code",
   "execution_count": null,
   "metadata": {},
   "outputs": [],
   "source": [
    "h_conv"
   ]
  },
  {
   "cell_type": "code",
   "execution_count": null,
   "metadata": {},
   "outputs": [],
   "source": [
    "imshow(h_conv)"
   ]
  },
  {
   "cell_type": "code",
   "execution_count": null,
   "metadata": {},
   "outputs": [],
   "source": [
    "# podemos pensar w y f como sabanas infinitas de ceros con informacion localizada en una pequeña ventana.\n",
    "w_pad = pad_image(w, 3)\n",
    "f_pad = pad_image(f, 3)\n",
    "show_images([\n",
    "    w_pad,\n",
    "    f_pad,\n",
    "    convolution(w_pad, f_pad),\n",
    "    # cv_convolution(w_pad, f_pad)\n",
    "])"
   ]
  },
  {
   "cell_type": "markdown",
   "metadata": {
    "id": "GGSX8C5ZGjjT"
   },
   "source": [
    "## Correlación\n",
    "\n",
    "La función de correlación dadas dos dos imágenes w y f en escala de grises:\n",
    "\n",
    "$ (w ☆ f)( x, y) =  \\sum\\limits_{s=-∞}^{∞} \\sum\\limits_{t=-∞}^{∞} w(s, t) . f(x + s, y + t ) $\n",
    "\n",
    "\n"
   ]
  },
  {
   "cell_type": "code",
   "execution_count": null,
   "metadata": {
    "colab": {
     "base_uri": "https://localhost:8080/"
    },
    "executionInfo": {
     "elapsed": 3,
     "status": "ok",
     "timestamp": 1720175464102,
     "user": {
      "displayName": "esteban uri",
      "userId": "18306501230318527581"
     },
     "user_tz": 180
    },
    "id": "OEsMP0-zDZPk",
    "outputId": "10d19d9b-85dc-417b-cb43-490a2b9752e7"
   },
   "outputs": [],
   "source": [
    "# Implementar en python una funcion correlation que recibe dos imágenes\n",
    "#  en escala de grises w y f y devuelve la correlación.\n",
    "# - para este ejercicio no importa la eficiencia, se pueden usar for loops.\n",
    "\n",
    "def correlation(w, f, padding='zero'):\n",
    "    M, N = f.shape\n",
    "    m, n = w.shape\n",
    "    a, b = m // 2, n // 2\n",
    "\n",
    "    # aplicar padding simétrico\n",
    "    f_padded = cv2.copyMakeBorder(f, a, a, b, b, cv2.BORDER_CONSTANT)\n",
    "\n",
    "    g = np.zeros_like(f, dtype=np.float64)\n",
    "    for y in range(M):\n",
    "        for x in range(N):\n",
    "            g[y, x] = (w * f_padded[y:y + m, x:x + n]).sum()\n",
    "\n",
    "    return g\n"
   ]
  },
  {
   "cell_type": "code",
   "execution_count": null,
   "metadata": {},
   "outputs": [],
   "source": [
    "h_corr = correlation(w, f)"
   ]
  },
  {
   "cell_type": "code",
   "execution_count": null,
   "metadata": {},
   "outputs": [],
   "source": [
    "h_corr"
   ]
  },
  {
   "cell_type": "code",
   "execution_count": null,
   "metadata": {},
   "outputs": [],
   "source": [
    "imshow(h_corr)"
   ]
  },
  {
   "cell_type": "code",
   "execution_count": null,
   "metadata": {},
   "outputs": [],
   "source": [
    "# dan igual?\n",
    "np.linalg.norm(h_corr - h_conv)"
   ]
  },
  {
   "cell_type": "code",
   "execution_count": null,
   "metadata": {},
   "outputs": [],
   "source": [
    "# Propiedad: \n",
    "# convolution(w, f) == correlation(flip(w), f)"
   ]
  },
  {
   "cell_type": "code",
   "execution_count": null,
   "metadata": {},
   "outputs": [],
   "source": [
    "w"
   ]
  },
  {
   "cell_type": "code",
   "execution_count": null,
   "metadata": {},
   "outputs": [],
   "source": [
    "w_flip = cv2.flip(w, -1)\n",
    "w_flip"
   ]
  },
  {
   "cell_type": "code",
   "execution_count": null,
   "metadata": {},
   "outputs": [],
   "source": [
    "h_corr = correlation(w_flip, f)"
   ]
  },
  {
   "cell_type": "code",
   "execution_count": null,
   "metadata": {},
   "outputs": [],
   "source": [
    "np.linalg.norm(h_corr - h_conv)"
   ]
  },
  {
   "cell_type": "code",
   "execution_count": null,
   "metadata": {},
   "outputs": [],
   "source": [
    "# => si w es simétrico, correlation(w, f) == convolution(w, f)"
   ]
  },
  {
   "cell_type": "markdown",
   "metadata": {
    "id": "f_mvl7UHHNr0"
   },
   "source": [
    "## cv2.filter2D\n",
    "la función de OpenCV [`cv2.filter2D`](https://docs.opencv.org/3.4/d4/dbd/tutorial_filter_2d.html) permite computar la correlación dado el kernel w, y la imagen f, de manera eficiente.\n"
   ]
  },
  {
   "cell_type": "code",
   "execution_count": null,
   "metadata": {},
   "outputs": [],
   "source": [
    "# TODO:\n",
    "# Usando OpenCV cv2.filter2D, computar la misma convolución que antes w * f.\n",
    "\n",
    "def cv_convolution(w, f):\n",
    "    \n",
    "    return cv2.filter2D(\n",
    "        f,\n",
    "        ddepth=cv2.CV_64F,\n",
    "        kernel=cv2.flip(w, -1),\n",
    "        borderType=cv2.BORDER_CONSTANT\n",
    "    )\n",
    "\n",
    "cv_convolution(w, f)"
   ]
  },
  {
   "cell_type": "code",
   "execution_count": null,
   "metadata": {},
   "outputs": [],
   "source": [
    "convolution(w, f)"
   ]
  },
  {
   "cell_type": "code",
   "execution_count": null,
   "metadata": {
    "id": "l1nHgYNkew0R"
   },
   "outputs": [],
   "source": [
    "c1 = cv_convolution(w, f)\n",
    "c2 = convolution(w, f)"
   ]
  },
  {
   "cell_type": "code",
   "execution_count": null,
   "metadata": {},
   "outputs": [],
   "source": []
  },
  {
   "cell_type": "code",
   "execution_count": null,
   "metadata": {
    "colab": {
     "base_uri": "https://localhost:8080/",
     "height": 459
    },
    "executionInfo": {
     "elapsed": 402,
     "status": "ok",
     "timestamp": 1720176254269,
     "user": {
      "displayName": "esteban uri",
      "userId": "18306501230318527581"
     },
     "user_tz": 180
    },
    "id": "wZdirHM8fKe5",
    "outputId": "610d6b8a-025e-4d2d-b9e9-cdaba4b04654"
   },
   "outputs": [],
   "source": [
    "show_images([c1, c2])"
   ]
  },
  {
   "cell_type": "code",
   "execution_count": null,
   "metadata": {
    "id": "YXrz6Z9SedQ-"
   },
   "outputs": [],
   "source": [
    "eq = np.linalg.norm(c1 - c2) < 0.001\n",
    "assert eq, \"el resultado de ambas funciones deben coincidir\""
   ]
  },
  {
   "cell_type": "markdown",
   "metadata": {
    "id": "7pXZ75F36q4f"
   },
   "source": [
    "## Propiedades de la convolución\n",
    "\n",
    "Verificar las siguientes propiedades de la convolución:\n",
    "\n",
    "- **conmutativa**: (f ★ g) = (g ★ f)\n",
    "\n",
    "- **asociativa**: (f ★ g) ★ h = f ★ (g ★ h)\n",
    "\n",
    "- **distributiva**: f ★ (g + h) = (f ★ g) + (f ★ h)\n"
   ]
  },
  {
   "cell_type": "code",
   "execution_count": null,
   "metadata": {},
   "outputs": [],
   "source": [
    "# Conmutativa\n",
    "# w * f = f * w\n",
    "# convolution(w, f) == convolution(f, w)\n",
    "\n",
    "def pad(img, a, b):\n",
    "  return cv2.copyMakeBorder(img, a, a, b, b, borderType=cv2.BORDER_CONSTANT, value=0)\n",
    "\n",
    "w_pad = pad(w, 1, 1)\n",
    "\n",
    "cv_convolution(w_pad, f)"
   ]
  },
  {
   "cell_type": "code",
   "execution_count": null,
   "metadata": {},
   "outputs": [],
   "source": [
    "cv_convolution(f, w_pad)"
   ]
  },
  {
   "cell_type": "code",
   "execution_count": null,
   "metadata": {},
   "outputs": [],
   "source": [
    "# Asociativa\n",
    "\n",
    "h = np.array([\n",
    "    [-1, 1, -1],\n",
    "    [1, -8, 1],\n",
    "    [-1, 1, -1],\n",
    "], dtype='float')\n",
    "\n",
    "# Propiedad:\n",
    "# (w * f) * h = w * (f * h)\n",
    "# convolution(convolution(w, f), h) == convolution(w, convolution(f, h))\n"
   ]
  },
  {
   "cell_type": "code",
   "execution_count": null,
   "metadata": {},
   "outputs": [],
   "source": [
    "w_pad = pad_image(w, 2)\n",
    "f_pad = pad_image(f, 2)\n",
    "h_pad = pad_image(h, 2)\n"
   ]
  },
  {
   "cell_type": "code",
   "execution_count": null,
   "metadata": {},
   "outputs": [],
   "source": [
    "convolution(convolution(w_pad, f_pad), h_pad)"
   ]
  },
  {
   "cell_type": "code",
   "execution_count": null,
   "metadata": {},
   "outputs": [],
   "source": [
    "convolution(w_pad, convolution(f_pad, h_pad))"
   ]
  },
  {
   "cell_type": "code",
   "execution_count": null,
   "metadata": {},
   "outputs": [],
   "source": [
    "\n"
   ]
  },
  {
   "cell_type": "code",
   "execution_count": null,
   "metadata": {},
   "outputs": [],
   "source": [
    "# Distributiva\n",
    "\n",
    "# Propiedad\n",
    "# w * (f + h) = w * f + w * h\n",
    "# convolution(w, (f + h)) == convolution(w, f) + convolution(w, h)"
   ]
  },
  {
   "cell_type": "code",
   "execution_count": null,
   "metadata": {},
   "outputs": [],
   "source": [
    "h_pad = pad_image(h, 1)"
   ]
  },
  {
   "cell_type": "code",
   "execution_count": null,
   "metadata": {},
   "outputs": [],
   "source": [
    "convolution(w, f + h_pad)"
   ]
  },
  {
   "cell_type": "code",
   "execution_count": null,
   "metadata": {},
   "outputs": [],
   "source": [
    "convolution(w, f) + convolution(w, h_pad)"
   ]
  },
  {
   "cell_type": "markdown",
   "metadata": {
    "id": "RXyGwi5iWWJZ"
   },
   "source": [
    "# Suavizado (Blur)\n",
    "\n",
    "Smoothing o Blurring\n",
    "\n",
    "A estos filtros se los denomina \"pasa bajo\" porque en la señal resultante persisten las bajas frecuencias.\n",
    "\n"
   ]
  },
  {
   "cell_type": "markdown",
   "metadata": {
    "id": "efaahpLtguC3"
   },
   "source": [
    "### Filtro de Caja"
   ]
  },
  {
   "cell_type": "markdown",
   "metadata": {
    "id": "8gn-AJzWPCQ3"
   },
   "source": [
    "El kernel caja (o box kernel) es un filtro lineal de dominio espacial en el que cada píxel de la imagen resultante tiene un valor igual al valor medio de sus píxeles vecinos en la imagen de entrada.\n",
    "\n",
    "Por ejemplo, en el caso de 3x3 tenemos:\n",
    "\n",
    "$\n",
    "w = \\frac{1}{9} .\n",
    "  \\begin{bmatrix}\n",
    "    1 & 1 & 1 \\\\\n",
    "    1 & 1 & 1 \\\\\n",
    "    1 & 1 & 1\n",
    "  \\end{bmatrix}\n",
    "$"
   ]
  },
  {
   "cell_type": "code",
   "execution_count": null,
   "metadata": {
    "colab": {
     "base_uri": "https://localhost:8080/",
     "height": 261
    },
    "executionInfo": {
     "elapsed": 2537,
     "status": "ok",
     "timestamp": 1720308785481,
     "user": {
      "displayName": "esteban uri",
      "userId": "18306501230318527581"
     },
     "user_tz": 180
    },
    "id": "owqdsePegs-k",
    "outputId": "8bf37a89-c519-4e12-8a89-378d870111d4"
   },
   "outputs": [],
   "source": [
    "# (box blur)\n",
    "\n",
    "# Escribir en python una función que dado el tamaño del kernel\n",
    "# genere un kernel caja.\n",
    "# - Luego aplicarlo como filtro sobre la imagen y verificar el resultado.\n",
    "# - Que ocurre cuando el tamaño del kernel es más grande?\n",
    "\n",
    "def box_kernel(size):\n",
    "    \n",
    "    k = 1 / (size * size) * np.ones((size, size), dtype='float')\n",
    "    \n",
    "    return k\n",
    "\n",
    "labels = []\n",
    "sizes = [3, 7, 11, 27]\n",
    "results = [img]\n",
    "labels = [\"original\"]\n",
    "\n",
    "for size in sizes:\n",
    "\n",
    "  k = box_kernel(size)\n",
    "\n",
    "  filtered = cv2.filter2D(\n",
    "      img, \n",
    "      kernel=k, \n",
    "      ddepth=cv2.CV_64F, \n",
    "      borderType=cv2.BORDER_CONSTANT\n",
    "  )\n",
    "\n",
    "  labels.append(f\"box filter s:{size}\")\n",
    "  results.append(filtered)\n",
    "\n",
    "\n",
    "show_images(results, labels)\n",
    "\n"
   ]
  },
  {
   "cell_type": "markdown",
   "metadata": {
    "id": "MBe3Glzggk23"
   },
   "source": [
    "### Filtro gaussiano\n"
   ]
  },
  {
   "cell_type": "markdown",
   "metadata": {
    "id": "hiS2UAD7STWf"
   },
   "source": [
    "La [distribución de Gauss (o Normal) en dos variables](https://en.wikipedia.org/wiki/Gaussian_function#/media/File:Gaussian_2d_surface.png) está dada por la función:\n",
    "\n",
    "$ w(x, y) = \\frac{1}{2 . π σ^2} . e^{- \\frac{x^2 + y^2}{2 . σ^2}} $\n"
   ]
  },
  {
   "cell_type": "code",
   "execution_count": null,
   "metadata": {
    "id": "z5BBISTrQN34"
   },
   "outputs": [],
   "source": [
    "# TODO: (gaussian blur)\n",
    "# - escribir una función en python que dado ksize (el tamaño del kernel),\n",
    "#   y sigma (el desvío estándard), devuelva el kernel gausiano resultante.\n",
    "# - Visualizar el kernel como una imagen.\n",
    "# - aplicar el kernel a la imagen, mostrar como varía el blur variando\n",
    "#   los parámetros del kernel\n",
    "\n",
    "import numpy as np\n",
    "\n",
    "def gaussian_kernel(sigma=1, ksize=None, K=None):\n",
    "  # ksize = 29\n",
    "  # sigma = 3\n",
    "\n",
    "  if ksize is None:\n",
    "    # if ksize is None, ksize se\n",
    "    # computará automáticamente con un tamaño de 2 * sigma + 1\n",
    "    ksize = int(2 * sigma + 1)\n",
    "\n",
    "  a = ksize // 2\n",
    "  b = ksize // 2\n",
    "\n",
    "  c = 2 * sigma**2\n",
    "  if K is None:\n",
    "    K = 1 / (c * np.pi)\n",
    "  s = np.linspace(-b, b, ksize)\n",
    "  t = np.linspace(-a, a, ksize)\n",
    "  ss, tt = np.meshgrid(s, t)\n",
    "  w = K * np.exp(-(ss**2 + tt**2) / c)\n",
    "  return w\n",
    "\n",
    "\n",
    "w = gaussian_kernel(ksize=5, sigma=1, K=1)"
   ]
  },
  {
   "cell_type": "code",
   "execution_count": null,
   "metadata": {
    "id": "XeHZ5W1bXixm"
   },
   "outputs": [],
   "source": [
    "w"
   ]
  },
  {
   "cell_type": "code",
   "execution_count": null,
   "metadata": {
    "colab": {
     "base_uri": "https://localhost:8080/",
     "height": 576
    },
    "executionInfo": {
     "elapsed": 1904,
     "status": "ok",
     "timestamp": 1720352598089,
     "user": {
      "displayName": "esteban uri",
      "userId": "18306501230318527581"
     },
     "user_tz": 180
    },
    "id": "I57MNYAhO198",
    "outputId": "5cbda0f8-e057-43ef-afac-267068da8ff6"
   },
   "outputs": [],
   "source": [
    "labels = []\n",
    "sigmas = [1, 3, 7, 11]\n",
    "kernels = []\n",
    "k_labels = []\n",
    "results = [img]\n",
    "labels = [\"original\"]\n",
    "\n",
    "border_type = cv2.BORDER_CONSTANT\n",
    "# border_type = cv2.BORDER_REFLECT_101\n",
    "\n",
    "for sigma in sigmas:\n",
    "\n",
    "  k = gaussian_kernel(sigma=sigma)\n",
    "\n",
    "  kernels.append(cv2.normalize(k, 0, 255, cv2.NORM_MINMAX))\n",
    "  k_labels.append(f\"kernel sigma:{sigma}\")\n",
    "\n",
    "  filtered = cv2.filter2D(\n",
    "      img, kernel=k,\n",
    "      ddepth=cv2.CV_64F,\n",
    "      borderType=border_type\n",
    "  )\n",
    "\n",
    "  labels.append(f\"sigma:{sigma}\")\n",
    "  results.append(filtered)\n",
    "\n",
    "\n",
    "show_images(kernels, k_labels)\n",
    "show_images(results, labels)\n"
   ]
  },
  {
   "cell_type": "markdown",
   "metadata": {
    "id": "zNVhTIEw6VZx"
   },
   "source": [
    "### Separabilidad\n",
    "\n",
    "Un kernel 2D es separable si se puede escribir como dot product de dos kernels 1D.\n",
    "\n",
    "$ w( x, y ) = w_x( x ) . w_y( y )^T $\n",
    "\n",
    "**Ejemplo**\n",
    "\n",
    "El kernel gaussiano es separable ya que:\n",
    "\n",
    "$ w(x, y) = \\frac{1}{2 . π σ^2} . e^{- \\frac{x^2 + y^2}{2 . σ^2}} = gauss1D(x) . gauss1D(y)^T $\n",
    "\n",
    "donde\n",
    "\n",
    "$ gauss1D(x) = \\frac{1}{\\sqrt{2 . π σ^2}} . e^{- \\frac{x^2}{2 . σ^2}} $\n",
    "\n",
    "\n",
    "El efecto combinado de aplicar secuencialmente los dos kernels 1D en la imagen, es equivalente a aplicar el filtro 2D (el primero combinará pixeles vecinos en la dirección de las columnas y el segundo en la de las filas).\n",
    "\n",
    "Si bien el resultado es el mismo, el tiempo computacional de aplicar dos filtros 1D vs aplicar 2D es menor.\n"
   ]
  },
  {
   "cell_type": "markdown",
   "metadata": {
    "id": "ss4KIg8sC522"
   },
   "source": [
    "#### Blurr en OpenCV con filtros separables\n",
    "\n",
    "OpenCV provee la función `cv2.getGaussianKernel(ksize, sigma)`\n",
    "que genera un kernel gaussiano de 1D.\n",
    "\n",
    "Nota: esta función realiza un paso final de normalizacion, computando en realidad $ g( x ) = α * e^{-\\frac{x^2}{ 2 . σ^2}} $\n",
    "Con $ α $ un valor de escalado tal que $ \\sum_i g(i) = 1$.\n",
    "\n"
   ]
  },
  {
   "cell_type": "code",
   "execution_count": null,
   "metadata": {
    "id": "AqqFswMk-yLg"
   },
   "outputs": [],
   "source": [
    "\n",
    "# - usando la función cv2.getGaussianKernel generar el kernel gaussiano 2D\n",
    "# - normalizar tal que la suma de los kernels sea 1 y comparar con el kernel\n",
    "#    generado por la función codificada anteriormente\n",
    "\n"
   ]
  },
  {
   "cell_type": "code",
   "execution_count": null,
   "metadata": {
    "id": "U59Rh_WtNKbE"
   },
   "outputs": [],
   "source": [
    "def gaussian_kernel_1d(sigma=1, ksize=None, K=None):\n",
    "\n",
    "  if ksize is None:\n",
    "    # if ksize is None, ksize se\n",
    "    # computará automáticamente con un tamaño de 2 * sigma + 1\n",
    "    ksize = int(2 * sigma + 1)\n",
    "\n",
    "  a = ksize // 2\n",
    "\n",
    "  c = 2 * sigma**2\n",
    "  if K is None:\n",
    "    K = 1 / np.sqrt(c * np.pi)\n",
    "  t = np.linspace(-a, a, ksize)\n",
    "  w = K * np.exp(-(t**2) / c)\n",
    "\n",
    "  w = w / w.sum()\n",
    "  return w"
   ]
  },
  {
   "cell_type": "code",
   "execution_count": null,
   "metadata": {
    "id": "gv4Ab9TvNQZD"
   },
   "outputs": [],
   "source": [
    "# calculo el kernel en 1d, y lo traspongo para que quede como vector columna\n",
    "gauss1d = gaussian_kernel_1d(sigma=1, ksize=5).reshape(-1, 1)"
   ]
  },
  {
   "cell_type": "code",
   "execution_count": null,
   "metadata": {
    "id": "-moRW6lV58lL"
   },
   "outputs": [],
   "source": [
    "# obtengo el mismo kernel pero con la librería de OpenCV\n",
    "cv_gauss1d = cv2.getGaussianKernel(sigma=1, ksize=5, ktype=cv2.CV_64F)"
   ]
  },
  {
   "cell_type": "code",
   "execution_count": null,
   "metadata": {},
   "outputs": [],
   "source": [
    "cv_gauss1d"
   ]
  },
  {
   "cell_type": "code",
   "execution_count": null,
   "metadata": {
    "colab": {
     "base_uri": "https://localhost:8080/"
    },
    "executionInfo": {
     "elapsed": 372,
     "status": "ok",
     "timestamp": 1720356580079,
     "user": {
      "displayName": "esteban uri",
      "userId": "18306501230318527581"
     },
     "user_tz": 180
    },
    "id": "ZuuRBFxENJfW",
    "outputId": "1bcde105-0518-4254-e784-3c4de07686c5"
   },
   "outputs": [],
   "source": [
    "# El resultado es el mismo\n",
    "(gauss1d == cv_gauss1d).all()"
   ]
  },
  {
   "cell_type": "code",
   "execution_count": null,
   "metadata": {
    "id": "_b4MVYsKO3F4"
   },
   "outputs": [],
   "source": [
    "# usando los kernels 1d genero el gaussian kernel 2d\n",
    "cv_gauss2d = np.dot(cv_gauss1d, cv_gauss1d.T)"
   ]
  },
  {
   "cell_type": "code",
   "execution_count": null,
   "metadata": {
    "id": "763wip9ZO3C0"
   },
   "outputs": [],
   "source": [
    "# genero el mismo kernel 2d con la funcion implementada anteriormente\n",
    "gauss2d = gaussian_kernel(sigma=1, ksize=5)"
   ]
  },
  {
   "cell_type": "code",
   "execution_count": null,
   "metadata": {
    "id": "vuUpzK60O269"
   },
   "outputs": [],
   "source": [
    "# normalizo ambos kernels 2d\n",
    "gauss2d /= gauss2d.sum()\n",
    "cv_gauss2d /= cv_gauss2d.sum()"
   ]
  },
  {
   "cell_type": "code",
   "execution_count": null,
   "metadata": {
    "colab": {
     "base_uri": "https://localhost:8080/"
    },
    "executionInfo": {
     "elapsed": 387,
     "status": "ok",
     "timestamp": 1720356687401,
     "user": {
      "displayName": "esteban uri",
      "userId": "18306501230318527581"
     },
     "user_tz": 180
    },
    "id": "GrdY7FQzL-sO",
    "outputId": "bddeb4ad-e5d8-4690-b8d7-3edd737bede7"
   },
   "outputs": [],
   "source": [
    "# chequeo que los kernels normalizados coinciden.\n",
    "np.linalg.norm(gauss2d - cv_gauss2d).round(6)"
   ]
  },
  {
   "cell_type": "code",
   "execution_count": null,
   "metadata": {},
   "outputs": [],
   "source": [
    "imshow(cv_gauss2d)"
   ]
  },
  {
   "cell_type": "markdown",
   "metadata": {
    "id": "-YR1djJJQoUW"
   },
   "source": [
    "#### Aplicando kernels separables\n",
    "\n",
    "OpenCV provee la función `cv2.sepFilter2D(img, ddepth, kernel_1dx, kernel_1dy)` que permite aplicar dos filtros 1d para lograr el mismo resultado que el filtro combinado 2d.\n",
    "\n"
   ]
  },
  {
   "cell_type": "code",
   "execution_count": null,
   "metadata": {
    "id": "-LzzYN_ITxHM"
   },
   "outputs": [],
   "source": []
  },
  {
   "cell_type": "code",
   "execution_count": null,
   "metadata": {
    "colab": {
     "base_uri": "https://localhost:8080/",
     "height": 482
    },
    "executionInfo": {
     "elapsed": 1572,
     "status": "ok",
     "timestamp": 1720357889283,
     "user": {
      "displayName": "esteban uri",
      "userId": "18306501230318527581"
     },
     "user_tz": 180
    },
    "id": "JSoaRlIkfynq",
    "outputId": "ebc17560-896d-424c-bb46-3da6b2963127"
   },
   "outputs": [],
   "source": [
    "# TODO sepFilter\n",
    "# - aplicar a la imagen blurr usando el filtro 2d y luego los dos\n",
    "# filtros 1d con la función cv2.sepFilter2D. Graficar los resultados y comparar\n",
    "\n",
    "gauss_1d = cv2.getGaussianKernel(sigma=7, ksize=15)\n",
    "gauss_2d = gaussian_kernel(sigma=7, ksize=15)\n",
    "\n",
    "show_images([\n",
    "  cv2.filter2D(img, cv2.CV_64F, gauss_2d),\n",
    "  cv2.sepFilter2D(img, cv2.CV_64F, gauss_1d, gauss_1d),\n",
    "],\n",
    "[\n",
    "  \"blurred with filter2D\",\n",
    "  \"blurred with sepFilter2D (1d + 1d)\"\n",
    "])\n",
    "\n"
   ]
  },
  {
   "cell_type": "markdown",
   "metadata": {
    "id": "KeSdsnsvkolO"
   },
   "source": [
    "#### Determinar si un kernel es separable\n",
    "\n",
    "Un kernel W 2D es separable si se puede escribir como el dot product de dos kernels 1D:\n",
    "\n",
    "$ W(x, y) = W_x(x) . W_y(y) $\n",
    "\n",
    "dado el kernel 2D W, cómo podemos saber si es separable?"
   ]
  },
  {
   "cell_type": "markdown",
   "metadata": {},
   "source": [
    "#### Descomposición en Valores Singulares (SVD) - repaso\n",
    "\n",
    "Dada la matriz $A \\in \\mathbb{R}^{m \\times n}$, siempre existen 3 matrices $U$, $\\Sigma$ y $V$ tales que A se puede descomponer como:\n",
    "\n",
    "$$\n",
    "A = U \\Sigma V^T\n",
    "$$\n",
    "\n",
    "donde:\n",
    "- $U \\in \\mathbb{R}^{m \\times m}$. ortogonal. \n",
    "- $\\Sigma \\in \\mathbb{R}^{m \\times n}$. diagonal con valores no negativos.\n",
    "- $V \\in \\mathbb{R}^{n \\times n}$. ortogonal\n",
    "\n",
    "\n",
    "##### Notas\n",
    "\n",
    "- $\\sigma_i = \\Sigma_{i, i}$ son los valores singulares de A.\n",
    "- el número de valores singulares distintos de cero coincide con el rango de $A$.\n",
    "- Si se ordena decrecientemente según los sus valores singulares, la descomposición es única.\n",
    "- forma compacta: $ A = \\sum_{i=1}^r \\sigma_i . u_i . v_i^t $"
   ]
  },
  {
   "cell_type": "code",
   "execution_count": null,
   "metadata": {
    "id": "zMNULhe4iBFw"
   },
   "outputs": [],
   "source": [
    "# TODO is_seperable( k )\n",
    "# Propiedad: un kernel es separable si el rango de sus columnas es 1.\n",
    "# ( recordemos que el rango es el número de columnas linealmente independientes en esa matriz, que indican\n",
    "#  la dimensión del espacio vectorial generado )\n",
    "# Implementar una funcion en python que recibe un kernel 2d y decide si es o no separable\n",
    "\n",
    "def rank( k ):\n",
    "\n",
    "  u, s, vt = np.linalg.svd( k )\n",
    "  # print( s)\n",
    "  threshold = 1e-6\n",
    "  rank = np.sum(s > threshold)\n",
    "\n",
    "  return rank"
   ]
  },
  {
   "cell_type": "code",
   "execution_count": null,
   "metadata": {
    "id": "eEfmMTKoSkB1"
   },
   "outputs": [],
   "source": [
    "import cv2\n",
    "import numpy as np\n",
    "\n",
    "laplacian = np.array([\n",
    "    [0, -1, 0], \n",
    "    [-1, 4, -1], \n",
    "    [0, -1, 0]\n",
    "])"
   ]
  },
  {
   "cell_type": "code",
   "execution_count": null,
   "metadata": {
    "colab": {
     "base_uri": "https://localhost:8080/"
    },
    "executionInfo": {
     "elapsed": 3,
     "status": "ok",
     "timestamp": 1720391166311,
     "user": {
      "displayName": "esteban uri",
      "userId": "18306501230318527581"
     },
     "user_tz": 180
    },
    "id": "BaPVbe2gTKOT",
    "outputId": "22530adf-f83b-4e9a-822a-1166765ae52f"
   },
   "outputs": [],
   "source": [
    "rank( laplacian )"
   ]
  },
  {
   "cell_type": "code",
   "execution_count": null,
   "metadata": {
    "colab": {
     "base_uri": "https://localhost:8080/"
    },
    "executionInfo": {
     "elapsed": 823,
     "status": "ok",
     "timestamp": 1720391151129,
     "user": {
      "displayName": "esteban uri",
      "userId": "18306501230318527581"
     },
     "user_tz": 180
    },
    "id": "aCqEtbQ4qfGf",
    "outputId": "8d0bd7d3-3c9a-4401-9133-f80322867cef"
   },
   "outputs": [],
   "source": [
    "print( \"gauss separable?\", rank(gauss2d) == 1)\n",
    "print( \"laplacian separable?\", rank(laplacian) == 1 )"
   ]
  },
  {
   "cell_type": "code",
   "execution_count": null,
   "metadata": {
    "id": "4KO7wTVUT9eO"
   },
   "outputs": [],
   "source": [
    "import numpy as np\n",
    "\n",
    "def separate_kernel(k):\n",
    "    \"\"\"\n",
    "    Dado k un kernel 2D separable, lo separa en dos kernels de 1D.\n",
    "    \"\"\"\n",
    "    \n",
    "    # computa la descomposicion svd\n",
    "    u, s, vt = np.linalg.svd(k)\n",
    "\n",
    "    # Chequea si el kernel k es separable\n",
    "    threshold = 1e-6\n",
    "    if sum(s > threshold) != 1:\n",
    "        raise ValueError(\"el kernel no es separable\")\n",
    "\n",
    "    # Extrae el primer valor singular\n",
    "    # sigma = np.sqrt(s[0])\n",
    "    sigma = s[0]\n",
    "\n",
    "    # el producto externo entre la primera columna de u \n",
    "    # y de vt, escalado por el valor singular \n",
    "    # nos da los kernels 1D\n",
    "    \n",
    "    k_row = u[:, 0] * sigma\n",
    "    k_col = vt[0, :]\n",
    "\n",
    "    return k_row, k_col\n",
    "\n",
    "k = np.array([\n",
    "    [1, 0, -1], \n",
    "    [2, 0, -2], \n",
    "    [1, 0, -1]\n",
    "])\n",
    "kx, ky = separate_kernel( k )"
   ]
  },
  {
   "cell_type": "code",
   "execution_count": null,
   "metadata": {},
   "outputs": [],
   "source": [
    "kx, ky"
   ]
  },
  {
   "cell_type": "code",
   "execution_count": null,
   "metadata": {},
   "outputs": [],
   "source": [
    "np.dot(\n",
    "    kx.reshape(-1, 1), \n",
    "    ky.reshape(1, -1)\n",
    ")"
   ]
  },
  {
   "cell_type": "markdown",
   "metadata": {
    "id": "yoakG0KQUowd"
   },
   "source": [
    "## Blur con OpenCV\n",
    "\n",
    "OpenCV provee la funcion `cv2.GaussianBlur( img, ksize, sigmaX [, borderType])` que realiza todo lo anterior de manera eficiente, es decir dada una imagen computa el kernel gaussiano y lo aplica y luego devuelve la correspondiente imagen blurreada.\n",
    "\n",
    "En este caso ksize es una dupla que nos permite especificar un kernel con un tamaño y un desvío diferente en X y en Y."
   ]
  },
  {
   "cell_type": "code",
   "execution_count": null,
   "metadata": {},
   "outputs": [],
   "source": [
    "# Obs: los kernel gaussianos 2D, no tienen por qué ser cuadrados.\n",
    "g1 = cv2.getGaussianKernel(sigma=1, ksize=3, ktype=cv2.CV_64F)\n",
    "g2 = cv2.getGaussianKernel(sigma=1, ksize=5, ktype=cv2.CV_64F)\n",
    "np.dot(g1, g2.T)"
   ]
  },
  {
   "cell_type": "code",
   "execution_count": null,
   "metadata": {
    "colab": {
     "base_uri": "https://localhost:8080/",
     "height": 332
    },
    "executionInfo": {
     "elapsed": 1374,
     "status": "ok",
     "timestamp": 1720361901557,
     "user": {
      "displayName": "esteban uri",
      "userId": "18306501230318527581"
     },
     "user_tz": 180
    },
    "id": "nmwBCtXH3P0B",
    "outputId": "28085275-9865-4ae2-98e1-b3bbdfea8df2"
   },
   "outputs": [],
   "source": [
    "# TODO:\n",
    "# - aplicar blur sobre la imagen usando cv2.GaussianBlur y comparar los resultados\n",
    "#.  con el ejercicio anterior.\n",
    "\n",
    "blur_1 = cv2.GaussianBlur(img, ksize=(15, 15), sigmaX=7)\n",
    "blur_2 = cv2.GaussianBlur(img, ksize=(15, 3), sigmaX=7, sigmaY=1)\n",
    "blur_3 = cv2.GaussianBlur(img, ksize=(3, 15), sigmaX=1, sigmaY=7)\n",
    "show_images([\n",
    "    blur_1,\n",
    "    blur_2,\n",
    "    blur_3\n",
    "], [\n",
    "  \"blurred sigma=7\",\n",
    "  \"blurred sigma x=7, sigma y=1\",\n",
    "  \"blurred sigma x=1, sigma y=7\",\n",
    "])\n"
   ]
  },
  {
   "cell_type": "markdown",
   "metadata": {
    "id": "yioVm_l4OG3e"
   },
   "source": [
    "# Filtros Pasa alto\n",
    "\n",
    "Dejan pasar elementos de alta frecuencia (como bordes, detalles finos y ruido) y atenúan los componentes de baja frecuencia (como regiones suaves y transiciones graduales).\n",
    "\n"
   ]
  },
  {
   "cell_type": "code",
   "execution_count": null,
   "metadata": {},
   "outputs": [],
   "source": [
    "# img = cv2.imread(\"res/valve.jpg\", cv2.IMREAD_GRAYSCALE)\n",
    "img = cv2.imread(\"res/lenna.png\", cv2.IMREAD_GRAYSCALE)\n"
   ]
  },
  {
   "cell_type": "markdown",
   "metadata": {
    "id": "8qrielcjX2_7"
   },
   "source": [
    "# Edge Detection\n",
    "\n",
    "\n",
    "## Gradiente\n",
    "En el procesamiento de imágenes, los bordes representan transiciones significativas de intensidad.\n",
    "\n",
    "El gradiente de una imagen indica la tasa de cambio de intensidad en la imagen, y por tanto, los bordes corresponden a regiones con gradientes de mayor módulo.\n",
    "\n",
    "El gradiente se compone de las derivadas parciales en cada dirección:\n",
    "\n",
    "$ ∇I(x, y) = (G_x, G_y) = ( \\frac{ \\partial I }{\\partial x}, \\frac{ \\partial I }{\\partial y})$\n",
    "\n",
    "Usando el cociente incremental\n",
    "\n",
    "$ \\frac{ \\partial I }{\\partial x} = \\lim_{\\Delta x \\to 0} \\frac{I(x + \\Delta x, y) - I(x - \\Delta x, y)}{\\Delta x} $,\n",
    "\n",
    "en la imagen discreta se puede aproximar como:\n",
    "\n",
    " $ \\frac{ \\partial I }{\\partial x} ≈ \\frac{I(x + 1, y) - I(x - 1, y)}{2} $\n",
    "\n",
    "\n",
    "### Módulo del gradiente\n",
    "\n",
    "El modulo del gradiente podemos calcularlo usando la norma L2:\n",
    "\n",
    "$ | ∇I | = \\sqrt{ G_x^2 + G_y^2 } $\n",
    "\n",
    "### Orientación del gradiente\n",
    "\n",
    "La orientación del gradiente coincide con el ángulo de orientación del borde y se puede calcular como:\n",
    "\n",
    "$ arctan( \\frac{ G_y }{ G_x } ) $"
   ]
  },
  {
   "cell_type": "markdown",
   "metadata": {
    "id": "xSiI7KT-RHz2"
   },
   "source": [
    "### Prewitt\n",
    "\n",
    "El kernel Prewitt aproxima las derivadas de primer orden (gradientes) de la imagen tanto en la dirección horizontal (x) como en la vertical (y) usando los kernels:\n",
    "\n",
    "$\n",
    "G_x =\n",
    "  \\begin{bmatrix}\n",
    "    -1 & 0 & 1 \\\\\n",
    "    -1 & 0 & 1 \\\\\n",
    "    -1 & 0 & 1\n",
    "  \\end{bmatrix} ★ I\n",
    "$,\n",
    "\n",
    "$\n",
    "G_y =\n",
    "  \\begin{bmatrix}\n",
    "    -1 & -1 & -1 \\\\\n",
    "    0 & 0 & 0 \\\\\n",
    "    1 & 1 & 1\n",
    "  \\end{bmatrix} ★ I\n",
    "$\n"
   ]
  },
  {
   "cell_type": "markdown",
   "metadata": {
    "id": "LMUCqFIFHhcS"
   },
   "source": [
    "### Sobel\n",
    "\n",
    "El filtro Sobel aproxima las derivadas de primer orden (gradientes) de la imagen tanto en la dirección horizontal (x) como en la vertical (y) usando los kernels:\n",
    "\n",
    "$\n",
    "G_x =\n",
    "  \\begin{bmatrix}\n",
    "    -1 & 0 & 1 \\\\\n",
    "    -2 & 0 & 2 \\\\\n",
    "    -1 & 0 & 1\n",
    "  \\end{bmatrix}★ I\n",
    "$,\n",
    "\n",
    "$\n",
    "G_y =\n",
    "  \\begin{bmatrix}\n",
    "    -1 & -2 & -1 \\\\\n",
    "    0 & 0 & 0 \\\\\n",
    "    1 & 2 & 1\n",
    "  \\end{bmatrix} ★ I\n",
    "$\n"
   ]
  },
  {
   "cell_type": "markdown",
   "metadata": {
    "id": "30VshE9phMDS"
   },
   "source": [
    "### Scharr\n",
    "\n",
    "El filtro Scharr aproxima las derivadas de primer orden (gradientes) de la imagen tanto en la dirección horizontal (x) como en la vertical (y) usando los kernels:\n",
    "\n",
    "$\n",
    "G_x =\n",
    "  \\begin{bmatrix}\n",
    "    -3 & 0 & 3 \\\\\n",
    "    -10 & 0 & 10 \\\\\n",
    "    -3 & 0 & 3\n",
    "  \\end{bmatrix}★ I\n",
    "$,\n",
    "\n",
    "$\n",
    "G_y =\n",
    "  \\begin{bmatrix}\n",
    "    -3 & -10 & -3 \\\\\n",
    "    0 & 0 & 0 \\\\\n",
    "    3 & 10 & 3\n",
    "  \\end{bmatrix} ★ I\n",
    "$\n"
   ]
  },
  {
   "cell_type": "code",
   "execution_count": null,
   "metadata": {
    "colab": {
     "base_uri": "https://localhost:8080/",
     "height": 1000
    },
    "executionInfo": {
     "elapsed": 8178,
     "status": "ok",
     "timestamp": 1720411176808,
     "user": {
      "displayName": "esteban uri",
      "userId": "18306501230318527581"
     },
     "user_tz": 180
    },
    "id": "cjP-yOkSSHbt",
    "outputId": "3b434843-ed9b-4c45-b8c6-4b5934332e3b",
    "scrolled": true
   },
   "outputs": [],
   "source": [
    "# Gradiente\n",
    "\n",
    "# - Aplicar filtros Prewitt, Sobel y Scharr para computar el gradiente de la imagen\n",
    "# - Computar el módulo y la orientación del gradiente\n",
    "# - Graficar el gradiente en cada dirección, el módulo y su orientación\n",
    "\n",
    "\n",
    "import cv2\n",
    "\n",
    "def compute_gradient(img, kx, ky):\n",
    "\n",
    "  fimg = img.astype(float)\n",
    "  fkx = kx.astype(float)\n",
    "  fky = ky.astype(float)\n",
    "  gx = cv2.filter2D(fimg, cv2.CV_64F, fkx)\n",
    "  gy = cv2.filter2D(fimg, cv2.CV_64F, fky)\n",
    "\n",
    "  mag = np.sqrt(gx**2 + gy**2)\n",
    "\n",
    "  angle = cv2.phase(gx, gy, angleInDegrees=True)\n",
    "\n",
    "  return gx, gy, mag, angle\n",
    "\n",
    "def grad_orient_img(img, mag, angle):\n",
    "\n",
    "  angle = angle / 2.0 # para convertir de 0:360 to 0:180\n",
    "\n",
    "  h, w = img.shape\n",
    "  hsv = np.zeros((h, w, 3), dtype='uint8')\n",
    "  hsv[:, :, 0] = angle # H (en OpenCV entre 0 y 180 grados)\n",
    "  hsv[:, :, 1] = 255 # S\n",
    "  hsv[:, :, 2] = cv2.normalize(mag, None, 0, 255, cv2.NORM_MINMAX) # V 0:255\n",
    "  bgr = cv2.cvtColor(hsv, cv2.COLOR_HSV2BGR)\n",
    "\n",
    "  return bgr\n",
    "\n",
    "\n",
    "prewitt = np.array([[-1, 0, 1], [-1, 0, 1], [-1, 0, 1]])\n",
    "sobel = np.array([[-1, 0, 1], [-2, 0, 2], [-1, 0, 1]])\n",
    "\n",
    "pw_gx, pw_gy, pw_mag, pw_angle = compute_gradient(img, prewitt, prewitt.T)\n",
    "sb_gx, sb_gy, sb_mag, sb_angle = compute_gradient(img, sobel, sobel.T)\n",
    "\n",
    "show_images([\n",
    "    img,\n",
    "    pw_gx,\n",
    "    pw_gy,\n",
    "], [\"original\", \"Prewitt Gx\", \"Prewitt Gy\"])\n",
    "\n",
    "show_images([\n",
    "    img,\n",
    "    sb_gx,\n",
    "    sb_gy,\n",
    "], [\"original\", \"Sobel Gx\", \"Sobel Gy\"])\n",
    "\n",
    "show_images([\n",
    "    pw_mag,\n",
    "    sb_mag\n",
    "], [\"Prewitt |G|\", \"Sobel |G|\"])\n",
    "\n",
    "show_images([\n",
    "    grad_orient_img(img, pw_mag, pw_angle),\n",
    "    grad_orient_img(img, sb_mag, sb_angle)\n",
    "], [\"Prewitt Orient(G)\", \"Sobel Orient(G)\"])\n",
    "\n"
   ]
  },
  {
   "cell_type": "markdown",
   "metadata": {
    "id": "QuGo9qJ1aAV4"
   },
   "source": [
    "## Gradiente usando OpenCV\n",
    "\n",
    "OpenCV provee la funcion cv2.Sobel que realiza el mismo trabajo\n"
   ]
  },
  {
   "cell_type": "code",
   "execution_count": null,
   "metadata": {
    "colab": {
     "base_uri": "https://localhost:8080/",
     "height": 482
    },
    "executionInfo": {
     "elapsed": 1789,
     "status": "ok",
     "timestamp": 1720410346743,
     "user": {
      "displayName": "esteban uri",
      "userId": "18306501230318527581"
     },
     "user_tz": 180
    },
    "id": "aV9uuxqOXXOv",
    "outputId": "fbba7142-ba6b-4e38-a756-9e41daeb1c97"
   },
   "outputs": [],
   "source": [
    "# - graficar Gx usando cv2.Sobel y cv2.filter2D\n",
    "# - verificar que los resultados son los mismos\n",
    "\n",
    "# devuelve la imagen \"Sobeleada\"\n",
    "gx_cv = cv2.Sobel(img, ddepth=cv2.CV_64F, dx=1, dy=0, ksize=3)\n",
    "\n",
    "gx = cv2.filter2D(img, cv2.CV_64F, sobel)\n",
    "show_images([\n",
    "    gx_cv,\n",
    "    gx\n",
    "], [\"Gx Sobel using CV\", \"Gx Sobel\"]\n",
    ")\n"
   ]
  },
  {
   "cell_type": "code",
   "execution_count": null,
   "metadata": {
    "colab": {
     "base_uri": "https://localhost:8080/",
     "height": 482
    },
    "executionInfo": {
     "elapsed": 1507,
     "status": "ok",
     "timestamp": 1720450813754,
     "user": {
      "displayName": "esteban uri",
      "userId": "18306501230318527581"
     },
     "user_tz": 180
    },
    "id": "4cCZBaf1iAzs",
    "outputId": "bcd38b92-b09f-4f60-8a85-bbe8abdac894"
   },
   "outputs": [],
   "source": [
    "# - computar el módulo del gradiente usando Sobel y Scharr\n",
    "# - graficar los resultado, y compararlos\n",
    "\n",
    "def grad(img, method='sobel'):\n",
    "  if method == 'sobel':\n",
    "    gx = cv2.Sobel(img, ddepth=cv2.CV_64F, dx=1, dy=0, ksize=3)\n",
    "    gy = cv2.Sobel(img, ddepth=cv2.CV_64F, dx=0, dy=1, ksize=3)\n",
    "  else:\n",
    "    # method == 'scharr'\n",
    "    gx = cv2.Scharr(img, ddepth=cv2.CV_64F, dx=1, dy=0)\n",
    "    gy = cv2.Scharr(img, ddepth=cv2.CV_64F, dx=0, dy=1)\n",
    "\n",
    "\n",
    "  return gx, gy\n",
    "\n",
    "img_blur = cv2.GaussianBlur(img, ksize=(15, 15), sigmaX=7)\n",
    "sbx, sby = grad(img, 'sobel')\n",
    "scx, scy = grad(img, 'scharr')\n",
    "\n",
    "\n",
    "show_images([\n",
    "    np.sqrt(sbx**2 + sby**2),\n",
    "    np.sqrt(scx**2 + scy**2)\n",
    "], [\"Sobel X\", \"Scharr X\"]\n",
    ")"
   ]
  },
  {
   "cell_type": "code",
   "execution_count": null,
   "metadata": {
    "colab": {
     "base_uri": "https://localhost:8080/",
     "height": 310
    },
    "executionInfo": {
     "elapsed": 1054,
     "status": "ok",
     "timestamp": 1720451168690,
     "user": {
      "displayName": "esteban uri",
      "userId": "18306501230318527581"
     },
     "user_tz": 180
    },
    "id": "59HvIlZF16iV",
    "outputId": "dbd221ee-9c4f-43f5-efb5-9790322f987f"
   },
   "outputs": [],
   "source": [
    "# Roberts\n",
    "# Otro Kernel que aproxima la primera derivada pero de 2x2\n",
    "\n",
    "roberts_x = np.array([[-1, 0], [0, 1]])\n",
    "roberts_y = np.array([[0, -1], [1, 0]])\n",
    "gx = cv2.filter2D(img, cv2.CV_64F, roberts_x)\n",
    "gy = cv2.filter2D(img, cv2.CV_64F, roberts_y)\n",
    "\n",
    "mag = np.sqrt(gx**2 + gy**2)\n",
    "show_images([\n",
    "    gx,\n",
    "    gy,\n",
    "    mag\n",
    "])\n"
   ]
  },
  {
   "cell_type": "markdown",
   "metadata": {
    "id": "LZ4-33ATO68i"
   },
   "source": [
    "## Laplaciano\n",
    "\n",
    "Corresponde con la derivadas parciales de segundo orden (\"velocidad a la que cambian los valores de intensidad\").\n",
    "\n",
    "Se puede definir como:\n",
    "\n",
    "$ ∇^2 I(x, y) = \\frac{\\partial^2 I}{\\partial x^2} + \\frac{\\partial^2 I}{\\partial y^2}$\n",
    "\n",
    "(de esta manera se obtiene un kernel Isotrópico, donde no se favorece ninguna direccion en particular)\n",
    "\n",
    "\n",
    "Si aproximamos la derivada como:\n",
    "\n",
    "$ f'(x) ≈ \\frac{f(x+1) - f(x - 1)}{2}$\n",
    "\n",
    "La derivada segunda sería:\n",
    "\n",
    "$ f''(x) ≈ \\frac{f'(x+1) - f'(x - 1)}{2} = \\frac{f(x+2) - 2f(x) + f(x - 2)}{4}$.\n",
    "\n",
    "La fórmula anterior\n",
    "- necesita mirar dos pixeles hacia adelante y dos hacia atrás\n",
    "- si buscamos bordes, los mismos se van a encontrar en la misma posicion si divido por 4 que si divido por 1.\n",
    "\n",
    "Entonces en la práctica se suele usar en cambio la siguiente aproximación a la derivada segunda:\n",
    "\n",
    "$ f''(x) ≈ f(x + 1) - 2f(x) + f(x - 1)$.\n",
    "\n",
    "Pasando a 2 variables tenemos:\n",
    "\n",
    "$ \\frac{\\partial{^2I}}{\\partial{x^2}}(x, y) ≈ f(x + 1, y) - 2f(x, y) + f(x - 1, y) $,\n",
    "\n",
    "$ \\frac{\\partial{^2I}}{\\partial{y^2}}(x, y) ≈ f(x, y + 1) - 2f(x, y) + f(y, y - 1) $.\n",
    "\n",
    "\n",
    "Si utilizamos esta aproximación con x e y en la definicion del Laplaciano obtenemos:\n",
    "\n",
    "$ ∇^2 I(x, y) = I(x+1, y) + I(x-1, y) + I(x, y+1) + I(x, y-1) - 4 I(x, y) $\n",
    "\n",
    "El cómputo de esta ecuación se puede implementar usando una convolucion con el kernel:\n",
    "\n",
    "$\n",
    "L =\n",
    "  \\begin{bmatrix}\n",
    "    0 & 1 & 0 \\\\\n",
    "    1 & -4 & 1 \\\\\n",
    "    0 & 1 & 0\n",
    "  \\end{bmatrix}\n",
    "$,\n",
    "\n",
    "Otros kernels posibles son:\n",
    "\n",
    "$ L =\n",
    "  \\begin{bmatrix}\n",
    "    1 & 1 & 1 \\\\\n",
    "    1 & -8 & 1 \\\\\n",
    "    1 & 1 & 1\n",
    "  \\end{bmatrix} \n",
    "  $\n",
    "\n",
    "$ L = \\frac{1}{6} .\n",
    "  \\begin{bmatrix}\n",
    "    1 & 4 & 1 \\\\\n",
    "    4 & -20 & 4 \\\\\n",
    "    1 & 4 & 1\n",
    "  \\end{bmatrix} \n",
    "  $\n",
    "\n"
   ]
  },
  {
   "cell_type": "code",
   "execution_count": null,
   "metadata": {},
   "outputs": [],
   "source": [
    "# El Laplaciano:\n",
    "# - es isotrópico (responde igual a bordes en cualquier dirección) a diferencia de Sobel\n",
    "# - es más sensible a ruido que Sobel, por lo que casi siempre se usa en combinación con suavizado.\n",
    "# - los bordes están en los zero-crossings, a diferencia de Sobel en donde están en máximos y mínimos.\n",
    "\n",
    "w_laplacian = np.array([\n",
    "    [1, 1, 1],\n",
    "    [1, -8, 1],\n",
    "    [1, 1, 1],\n",
    "])\n",
    "\n",
    "# Podemos usar la convolución y uno de esos kernels para aplicar el laplaciano\n",
    "laplacian = cv2.filter2D(img, cv2.CV_64F, w_laplacian)\n",
    "\n",
    "# o bien usar la funcion de OpenCV cv2.Laplacian, que hace lo mismo\n",
    "cv_laplacian = cv2.Laplacian(img, cv2.CV_64F, ksize=3)\n",
    "\n",
    "laplacian_mod = np.absolute(laplacian)\n",
    "\n",
    "show_images([\n",
    "    laplacian,\n",
    "    cv_laplacian,\n",
    "    laplacian_mod,\n",
    "], [\"laplaciano usando kernel + filter2D\", \"usando cv.Laplacian\", \"modulo\"])"
   ]
  },
  {
   "cell_type": "markdown",
   "metadata": {},
   "source": [
    "### Sharpening con Laplaciano\n",
    "\n",
    "\n",
    "El laplaciano resalta las transiciones de intensidad bruscas y resta importancia a las regiones de intensidades que varían lentamente. Para aumentar la nitidez de la imagen, se resta el laplaciano a la imagen:\n",
    "\n",
    "$ S(x, y) = I (x, y) + c . [∇^2 I(x, y)] $\n",
    "\n",
    "donde $ c $ es un número negativo ej $c=-1$.\n",
    "\n",
    "OpenCV: nos brinda la funcion [`cv2.Laplacian`](https://docs.opencv.org/3.4/d4/d86/group__imgproc__filter.html#gad78703e4c8fe703d479c1860d76429e6), que aplica el filtro laplaciano a una imagen."
   ]
  },
  {
   "cell_type": "code",
   "execution_count": null,
   "metadata": {
    "id": "St-c1f6i6tBR"
   },
   "outputs": [],
   "source": [
    "# TODO:\n",
    "# mejorar la nitidez de la imagen \"recursos/moon.jpg\" mediante el\n",
    "# realce de bordes con el filtro laplaciano.\n",
    "# hint: puede requerir aumentar el contraste en el resultado final."
   ]
  },
  {
   "cell_type": "code",
   "execution_count": null,
   "metadata": {
    "id": "SXuGrIPlkwBn"
   },
   "outputs": [],
   "source": [
    "def contraste(r, c1, c2, a):\n",
    "\n",
    "  # transformacion de aumento de contraste\n",
    "  # como una funcion partida por 3 rectas l0, l1 y l2\n",
    "  # dados los valores de corte c1, c2, y a\n",
    "  # siendo a la pendiente de l0 y l2\n",
    "\n",
    "  # l0: 0 = a.0 + b => b = 0\n",
    "  b0 = 0\n",
    "\n",
    "  # l2: 255 = a. 255 + b2\n",
    "  b2 = 255 * (1 - a)\n",
    "\n",
    "  # calculo y1, y2\n",
    "  y1 = a * c1 + 0\n",
    "  y2 = a * c2 + b2\n",
    "\n",
    "  # l1: y = a1 . r + b1\n",
    "  # y1 = a1 . c1 + b1\n",
    "  # y2 = a1 . c2 + b1\n",
    "  # y1 - y2 = a1 . (c1 - c2)\n",
    "  # b1 = y1 - a1 . c1\n",
    "  a1 = (y1 - y2) / (c1 - c2)\n",
    "  b1 = y1 - a1 * c1\n",
    "\n",
    "  s0 = a * r + b0\n",
    "  s1 = a1 * r + b1\n",
    "  s2 = a * r + b2\n",
    "\n",
    "  mask_0 = r < c1\n",
    "  mask_1 = (r >= c1) & (r < c2)\n",
    "  mask_2 = r >= c2\n",
    "\n",
    "  s = s0 * mask_0 + s1 * mask_1 + s2 * mask_2\n",
    "  return s\n",
    "\n",
    "a = 1 / 4\n",
    "c1 = 255 * 1 / 3\n",
    "c2 = 255 * 2 / 3"
   ]
  },
  {
   "cell_type": "code",
   "execution_count": null,
   "metadata": {
    "colab": {
     "base_uri": "https://localhost:8080/",
     "height": 459
    },
    "executionInfo": {
     "elapsed": 1576,
     "status": "ok",
     "timestamp": 1720501316099,
     "user": {
      "displayName": "esteban uri",
      "userId": "18306501230318527581"
     },
     "user_tz": 180
    },
    "id": "eausnjZ0z-KS",
    "outputId": "46542a63-8cb9-41fe-e9b2-5ccc8ae16653"
   },
   "outputs": [],
   "source": [
    "img = cv2.imread(\"res/moon.jpg\", cv2.IMREAD_GRAYSCALE)\n",
    "\n",
    "\n",
    "# w = np.array([[0, 1, 0], [1, -4, 1], [0, 1, 0]])\n",
    "w = np.array([[1, 1, 1], [1, -8, 1], [1, 1, 1]])\n",
    "\n",
    "w = w.astype(float)\n",
    "img = img.astype(float)\n",
    "\n",
    "laplacian = cv_convolution(w, img)\n",
    "laplacian = laplacian / np.max(np.abs(laplacian))\n",
    "\n",
    "c = -255\n",
    "sharpened = img + c * laplacian\n",
    "\n",
    "sharpened = contraste(sharpened, 20, 220, 1/5)\n",
    "\n",
    "\n",
    "show_images([\n",
    "  img, sharpened\n",
    "])"
   ]
  },
  {
   "cell_type": "markdown",
   "metadata": {
    "id": "e8MR7Zu6GOjW"
   },
   "source": [
    "## Binarización de bordes\n",
    "\n",
    "Binarización consiste en transformar una imagen a blanco y negro.\n",
    "El resultado tiene dos valores posibles\n",
    "\n",
    "Ejemplo: 0 o 1 (o 0 y 255)."
   ]
  },
  {
   "cell_type": "code",
   "execution_count": null,
   "metadata": {
    "colab": {
     "base_uri": "https://localhost:8080/",
     "height": 406
    },
    "executionInfo": {
     "elapsed": 536,
     "status": "ok",
     "timestamp": 1720457888834,
     "user": {
      "displayName": "esteban uri",
      "userId": "18306501230318527581"
     },
     "user_tz": 180
    },
    "id": "zL_kCVsORP5i",
    "outputId": "12306a6f-c1ed-4e4f-b206-40e5858d6826"
   },
   "outputs": [],
   "source": [
    "# EJERCICIO:\n",
    "\n",
    "# Parte 1 - Detectar los bordes usando el gradiente y luego binarizar usando la\n",
    "#   la funciónde OpenCV cv.threshold para obtener una imagen binaria con los bordes.\n",
    "\n",
    "# img = cv2.imread(\"res/valve.jpg\", 0)\n",
    "img = cv2.imread(\"res/lenna.png\", 0)\n",
    "\n"
   ]
  },
  {
   "cell_type": "code",
   "execution_count": null,
   "metadata": {},
   "outputs": [],
   "source": [
    "# TODO:\n",
    "# mag = \"...\"\n",
    "# edges = \"...\"\n",
    "\n",
    "gx, gy = grad(img)\n",
    "mag = np.sqrt(gx**2 + gy**2)\n",
    "edges = np.zeros_like(img)\n",
    "edges[mag > 127] = 255\n",
    "\n",
    "show_images([\n",
    "    img, \n",
    "    mag,\n",
    "    edges\n",
    "], [\"Original\", \"Modulo del Gradiente\", \"Edges\"])\n"
   ]
  },
  {
   "cell_type": "code",
   "execution_count": null,
   "metadata": {},
   "outputs": [],
   "source": [
    "# Parte 2. \n",
    "# Al obtener los edges con el gradiente obtenemos bordes fuertes y bordes suaves.\n",
    "# Objetivo: Quiero una imagen binaria (0, 255), que decida si un pixel es borde o no.\n",
    "# Problema: \n",
    "#   - Si hago threshold, me voy a quedar con los fuertes, pero pierdo los débiles.\n",
    "#   - Si bajo el threshold se me mete ruido.\n",
    "\n",
    "# TODO:\n",
    "# Cómo podría mejorar este algoritmo para obtener mejores bordes en una imagen binaria?\n"
   ]
  },
  {
   "cell_type": "code",
   "execution_count": null,
   "metadata": {},
   "outputs": [],
   "source": [
    "edges = cv2.Canny(\n",
    "    img, 100, 200, \n",
    ")"
   ]
  },
  {
   "cell_type": "code",
   "execution_count": null,
   "metadata": {},
   "outputs": [],
   "source": [
    "imshow(edges)"
   ]
  },
  {
   "cell_type": "code",
   "execution_count": null,
   "metadata": {},
   "outputs": [],
   "source": []
  }
 ],
 "metadata": {
  "colab": {
   "provenance": []
  },
  "kernelspec": {
   "display_name": "Python 3 (ipykernel)",
   "language": "python",
   "name": "python3"
  },
  "language_info": {
   "codemirror_mode": {
    "name": "ipython",
    "version": 3
   },
   "file_extension": ".py",
   "mimetype": "text/x-python",
   "name": "python",
   "nbconvert_exporter": "python",
   "pygments_lexer": "ipython3",
   "version": "3.11.9"
  }
 },
 "nbformat": 4,
 "nbformat_minor": 4
}
